{
  "nbformat": 4,
  "nbformat_minor": 0,
  "metadata": {
    "colab": {
      "provenance": [],
      "authorship_tag": "ABX9TyODd8JqBF8IpPcPsnKmMtOt",
      "include_colab_link": true
    },
    "kernelspec": {
      "name": "python3",
      "display_name": "Python 3"
    },
    "language_info": {
      "name": "python"
    }
  },
  "cells": [
    {
      "cell_type": "markdown",
      "metadata": {
        "id": "view-in-github",
        "colab_type": "text"
      },
      "source": [
        "<a href=\"https://colab.research.google.com/github/da0979217/analisis-de-datos/blob/main/Untitled81.ipynb\" target=\"_parent\"><img src=\"https://colab.research.google.com/assets/colab-badge.svg\" alt=\"Open In Colab\"/></a>"
      ]
    },
    {
      "cell_type": "code",
      "execution_count": 10,
      "metadata": {
        "colab": {
          "base_uri": "https://localhost:8080/"
        },
        "id": "gn4RHUmtk2c3",
        "outputId": "078b1462-39de-4f62-9c0c-64611204d11b"
      },
      "outputs": [
        {
          "output_type": "stream",
          "name": "stdout",
          "text": [
            "  Instituto Nacional de Estadística y Geografía (INEGI)  \\\n",
            "0                                                NaN      \n",
            "1             Fecha de consulta: 01/12/2024 14:01:37      \n",
            "2                                                         \n",
            "3                                           Periodos      \n",
            "4                                               2000      \n",
            "\n",
            "                                          Unnamed: 1  \\\n",
            "0                                                NaN   \n",
            "1                                                NaN   \n",
            "2                                                NaN   \n",
            "3  Demografía y Sociedad > Educación > Tasa neta ...   \n",
            "4                                        49.55943993   \n",
            "\n",
            "                                          Unnamed: 2    Unnamed: 3  \n",
            "0                                                NaN           NaN  \n",
            "1                                                NaN           NaN  \n",
            "2                                                NaN           NaN  \n",
            "3  Demografía y Sociedad > Educación > Tasa neta ...  6.000000e+09  \n",
            "4                                        99.57166464           NaN  \n",
            "         Unnamed: 3\n",
            "count  1.000000e+00\n",
            "mean   6.000000e+09\n",
            "std             NaN\n",
            "min    6.000000e+09\n",
            "25%    6.000000e+09\n",
            "50%    6.000000e+09\n",
            "75%    6.000000e+09\n",
            "max    6.000000e+09\n"
          ]
        },
        {
          "output_type": "execute_result",
          "data": {
            "text/plain": [
              "(28, 4)"
            ]
          },
          "metadata": {},
          "execution_count": 10
        }
      ],
      "source": [
        "import pandas as pd\n",
        "\n",
        "\n",
        "df=pd.read_csv('/content/escolaridad.csv',encoding='latin1')\n",
        "\n",
        "print(df.head())\n",
        "\n",
        "print(df.describe())\n",
        "\n",
        "df.head(5)\n",
        "\n",
        "df.tail(5)\n",
        "\n",
        "\n",
        "\n",
        "len(df)\n",
        "\n",
        "df.shape\n"
      ]
    },
    {
      "cell_type": "code",
      "source": [
        "df.dtypes"
      ],
      "metadata": {
        "colab": {
          "base_uri": "https://localhost:8080/",
          "height": 210
        },
        "id": "d151pKP9ni68",
        "outputId": "47f1faa9-6bdc-419b-8c3c-e1aea6af76ab"
      },
      "execution_count": 11,
      "outputs": [
        {
          "output_type": "execute_result",
          "data": {
            "text/plain": [
              "Instituto Nacional de Estadística y Geografía (INEGI)     object\n",
              "Unnamed: 1                                                object\n",
              "Unnamed: 2                                                object\n",
              "Unnamed: 3                                               float64\n",
              "dtype: object"
            ],
            "text/html": [
              "<div>\n",
              "<style scoped>\n",
              "    .dataframe tbody tr th:only-of-type {\n",
              "        vertical-align: middle;\n",
              "    }\n",
              "\n",
              "    .dataframe tbody tr th {\n",
              "        vertical-align: top;\n",
              "    }\n",
              "\n",
              "    .dataframe thead th {\n",
              "        text-align: right;\n",
              "    }\n",
              "</style>\n",
              "<table border=\"1\" class=\"dataframe\">\n",
              "  <thead>\n",
              "    <tr style=\"text-align: right;\">\n",
              "      <th></th>\n",
              "      <th>0</th>\n",
              "    </tr>\n",
              "  </thead>\n",
              "  <tbody>\n",
              "    <tr>\n",
              "      <th>Instituto Nacional de Estadística y Geografía (INEGI)</th>\n",
              "      <td>object</td>\n",
              "    </tr>\n",
              "    <tr>\n",
              "      <th>Unnamed: 1</th>\n",
              "      <td>object</td>\n",
              "    </tr>\n",
              "    <tr>\n",
              "      <th>Unnamed: 2</th>\n",
              "      <td>object</td>\n",
              "    </tr>\n",
              "    <tr>\n",
              "      <th>Unnamed: 3</th>\n",
              "      <td>float64</td>\n",
              "    </tr>\n",
              "  </tbody>\n",
              "</table>\n",
              "</div><br><label><b>dtype:</b> object</label>"
            ]
          },
          "metadata": {},
          "execution_count": 11
        }
      ]
    },
    {
      "cell_type": "code",
      "source": [
        "\n",
        "df.shape"
      ],
      "metadata": {
        "colab": {
          "base_uri": "https://localhost:8080/"
        },
        "id": "UPjjX2Kwn19m",
        "outputId": "bfab6adc-a2a1-4f77-d826-821f62d2a951"
      },
      "execution_count": 13,
      "outputs": [
        {
          "output_type": "execute_result",
          "data": {
            "text/plain": [
              "(28, 4)"
            ]
          },
          "metadata": {},
          "execution_count": 13
        }
      ]
    },
    {
      "cell_type": "code",
      "source": [
        "df=df.drop_duplicates()"
      ],
      "metadata": {
        "id": "ffusZDProTQX"
      },
      "execution_count": 14,
      "outputs": []
    },
    {
      "cell_type": "code",
      "source": [
        "df.shape"
      ],
      "metadata": {
        "colab": {
          "base_uri": "https://localhost:8080/"
        },
        "id": "MtV810o0ofU2",
        "outputId": "6c6a8446-3768-43f8-cccb-389a8253a3b5"
      },
      "execution_count": 15,
      "outputs": [
        {
          "output_type": "execute_result",
          "data": {
            "text/plain": [
              "(28, 4)"
            ]
          },
          "metadata": {},
          "execution_count": 15
        }
      ]
    },
    {
      "cell_type": "code",
      "source": [
        "df.count"
      ],
      "metadata": {
        "colab": {
          "base_uri": "https://localhost:8080/",
          "height": 187
        },
        "id": "omm3zBdYon5T",
        "outputId": "9f024a5d-fde6-44d9-c5a8-3eec6b843528"
      },
      "execution_count": 16,
      "outputs": [
        {
          "output_type": "execute_result",
          "data": {
            "text/plain": [
              "<bound method DataFrame.count of    Instituto Nacional de Estadística y Geografía (INEGI)  \\\n",
              "0                                                 NaN      \n",
              "1              Fecha de consulta: 01/12/2024 14:01:37      \n",
              "2                                                          \n",
              "3                                            Periodos      \n",
              "4                                                2000      \n",
              "5                                                2001      \n",
              "6                                                2002      \n",
              "7                                                2003      \n",
              "8                                                2004      \n",
              "9                                                2005      \n",
              "10                                               2006      \n",
              "11                                               2007      \n",
              "12                                               2008      \n",
              "13                                               2009      \n",
              "14                                               2010      \n",
              "15                                               2011      \n",
              "16                                               2012      \n",
              "17                                               2013      \n",
              "18                                               2014      \n",
              "19                                               2015      \n",
              "20                                               2016      \n",
              "21                                               2017      \n",
              "22                                               2018      \n",
              "23                                               2019      \n",
              "24                                               2020      \n",
              "25                                               2021      \n",
              "26                                               2022      \n",
              "27  Fuentes: f1/ SEP.  Base de datos del formato 9...      \n",
              "\n",
              "                                           Unnamed: 1  \\\n",
              "0                                                 NaN   \n",
              "1                                                 NaN   \n",
              "2                                                 NaN   \n",
              "3   Demografía y Sociedad > Educación > Tasa neta ...   \n",
              "4                                         49.55943993   \n",
              "5                                         50.01349613   \n",
              "6                                         53.24966629   \n",
              "7                                         55.06144511   \n",
              "8                                         60.16755519   \n",
              "9                                         65.77252027   \n",
              "10                                         69.4485323   \n",
              "11                                        69.60114526   \n",
              "12                                        68.23142053   \n",
              "13                                        67.90930058   \n",
              "14                                        68.48941686   \n",
              "15                                        69.61009945   \n",
              "16                                        70.61718377   \n",
              "17                                        71.14176108   \n",
              "18                                         71.6013267   \n",
              "19                                        71.84844991   \n",
              "20                                        73.86439297   \n",
              "21                                        73.25448024   \n",
              "22                                        71.83304479   \n",
              "23                                        71.43772605   \n",
              "24                                        65.59913909   \n",
              "25                                        63.30735031   \n",
              "26                                        66.57033178   \n",
              "27                                                NaN   \n",
              "\n",
              "                                           Unnamed: 2    Unnamed: 3  \n",
              "0                                                 NaN           NaN  \n",
              "1                                                 NaN           NaN  \n",
              "2                                                 NaN           NaN  \n",
              "3   Demografía y Sociedad > Educación > Tasa neta ...  6.000000e+09  \n",
              "4                                         99.57166464           NaN  \n",
              "5                                          100.281516           NaN  \n",
              "6                                         100.1767384           NaN  \n",
              "7                                         99.80875408           NaN  \n",
              "8                                         99.29805083           NaN  \n",
              "9                                         99.21271533           NaN  \n",
              "10                                        99.73703871           NaN  \n",
              "11                                        99.91119436           NaN  \n",
              "12                                        100.8431698           NaN  \n",
              "13                                         101.407009           NaN  \n",
              "14                                        101.6644927           NaN  \n",
              "15                                        101.6715036           NaN  \n",
              "16                                        100.6938265           NaN  \n",
              "17                                        99.60314312           NaN  \n",
              "18                                        98.74302112           NaN  \n",
              "19                                        98.80937604           NaN  \n",
              "20                                        98.45385104           NaN  \n",
              "21                                           98.48018           NaN  \n",
              "22                                        98.65593434           NaN  \n",
              "23                                        98.32022461           NaN  \n",
              "24                                        97.37049468           NaN  \n",
              "25                                        96.31469543           NaN  \n",
              "26                                        95.77712768           NaN  \n",
              "27                                                NaN           NaN  >"
            ],
            "text/html": [
              "<div style=\"max-width:800px; border: 1px solid var(--colab-border-color);\"><style>\n",
              "      pre.function-repr-contents {\n",
              "        overflow-x: auto;\n",
              "        padding: 8px 12px;\n",
              "        max-height: 500px;\n",
              "      }\n",
              "\n",
              "      pre.function-repr-contents.function-repr-contents-collapsed {\n",
              "        cursor: pointer;\n",
              "        max-height: 100px;\n",
              "      }\n",
              "    </style>\n",
              "    <pre style=\"white-space: initial; background:\n",
              "         var(--colab-secondary-surface-color); padding: 8px 12px;\n",
              "         border-bottom: 1px solid var(--colab-border-color);\"><b>pandas.core.frame.DataFrame.count</b><br/>def count(axis: Axis=0, numeric_only: bool=False)</pre><pre class=\"function-repr-contents function-repr-contents-collapsed\" style=\"\"><a class=\"filepath\" style=\"display:none\" href=\"#\">/usr/local/lib/python3.10/dist-packages/pandas/core/frame.py</a>Count non-NA cells for each column or row.\n",
              "\n",
              "The values `None`, `NaN`, `NaT`, ``pandas.NA`` are considered NA.\n",
              "\n",
              "Parameters\n",
              "----------\n",
              "axis : {0 or &#x27;index&#x27;, 1 or &#x27;columns&#x27;}, default 0\n",
              "    If 0 or &#x27;index&#x27; counts are generated for each column.\n",
              "    If 1 or &#x27;columns&#x27; counts are generated for each row.\n",
              "numeric_only : bool, default False\n",
              "    Include only `float`, `int` or `boolean` data.\n",
              "\n",
              "Returns\n",
              "-------\n",
              "Series\n",
              "    For each column/row the number of non-NA/null entries.\n",
              "\n",
              "See Also\n",
              "--------\n",
              "Series.count: Number of non-NA elements in a Series.\n",
              "DataFrame.value_counts: Count unique combinations of columns.\n",
              "DataFrame.shape: Number of DataFrame rows and columns (including NA\n",
              "    elements).\n",
              "DataFrame.isna: Boolean same-sized DataFrame showing places of NA\n",
              "    elements.\n",
              "\n",
              "Examples\n",
              "--------\n",
              "Constructing DataFrame from a dictionary:\n",
              "\n",
              "&gt;&gt;&gt; df = pd.DataFrame({&quot;Person&quot;:\n",
              "...                    [&quot;John&quot;, &quot;Myla&quot;, &quot;Lewis&quot;, &quot;John&quot;, &quot;Myla&quot;],\n",
              "...                    &quot;Age&quot;: [24., np.nan, 21., 33, 26],\n",
              "...                    &quot;Single&quot;: [False, True, True, True, False]})\n",
              "&gt;&gt;&gt; df\n",
              "   Person   Age  Single\n",
              "0    John  24.0   False\n",
              "1    Myla   NaN    True\n",
              "2   Lewis  21.0    True\n",
              "3    John  33.0    True\n",
              "4    Myla  26.0   False\n",
              "\n",
              "Notice the uncounted NA values:\n",
              "\n",
              "&gt;&gt;&gt; df.count()\n",
              "Person    5\n",
              "Age       4\n",
              "Single    5\n",
              "dtype: int64\n",
              "\n",
              "Counts for each **row**:\n",
              "\n",
              "&gt;&gt;&gt; df.count(axis=&#x27;columns&#x27;)\n",
              "0    3\n",
              "1    2\n",
              "2    3\n",
              "3    3\n",
              "4    3\n",
              "dtype: int64</pre>\n",
              "      <script>\n",
              "      if (google.colab.kernel.accessAllowed && google.colab.files && google.colab.files.view) {\n",
              "        for (const element of document.querySelectorAll('.filepath')) {\n",
              "          element.style.display = 'block'\n",
              "          element.onclick = (event) => {\n",
              "            event.preventDefault();\n",
              "            event.stopPropagation();\n",
              "            google.colab.files.view(element.textContent, 11358);\n",
              "          };\n",
              "        }\n",
              "      }\n",
              "      for (const element of document.querySelectorAll('.function-repr-contents')) {\n",
              "        element.onclick = (event) => {\n",
              "          event.preventDefault();\n",
              "          event.stopPropagation();\n",
              "          element.classList.toggle('function-repr-contents-collapsed');\n",
              "        };\n",
              "      }\n",
              "      </script>\n",
              "      </div>"
            ]
          },
          "metadata": {},
          "execution_count": 16
        }
      ]
    },
    {
      "cell_type": "code",
      "source": [
        "df.isnull().sum()"
      ],
      "metadata": {
        "colab": {
          "base_uri": "https://localhost:8080/",
          "height": 210
        },
        "id": "TiAtMX6IoykK",
        "outputId": "c26a3571-5154-4d84-d8a0-d35cfad0e303"
      },
      "execution_count": 17,
      "outputs": [
        {
          "output_type": "execute_result",
          "data": {
            "text/plain": [
              "Instituto Nacional de Estadística y Geografía (INEGI)     1\n",
              "Unnamed: 1                                                4\n",
              "Unnamed: 2                                                4\n",
              "Unnamed: 3                                               27\n",
              "dtype: int64"
            ],
            "text/html": [
              "<div>\n",
              "<style scoped>\n",
              "    .dataframe tbody tr th:only-of-type {\n",
              "        vertical-align: middle;\n",
              "    }\n",
              "\n",
              "    .dataframe tbody tr th {\n",
              "        vertical-align: top;\n",
              "    }\n",
              "\n",
              "    .dataframe thead th {\n",
              "        text-align: right;\n",
              "    }\n",
              "</style>\n",
              "<table border=\"1\" class=\"dataframe\">\n",
              "  <thead>\n",
              "    <tr style=\"text-align: right;\">\n",
              "      <th></th>\n",
              "      <th>0</th>\n",
              "    </tr>\n",
              "  </thead>\n",
              "  <tbody>\n",
              "    <tr>\n",
              "      <th>Instituto Nacional de Estadística y Geografía (INEGI)</th>\n",
              "      <td>1</td>\n",
              "    </tr>\n",
              "    <tr>\n",
              "      <th>Unnamed: 1</th>\n",
              "      <td>4</td>\n",
              "    </tr>\n",
              "    <tr>\n",
              "      <th>Unnamed: 2</th>\n",
              "      <td>4</td>\n",
              "    </tr>\n",
              "    <tr>\n",
              "      <th>Unnamed: 3</th>\n",
              "      <td>27</td>\n",
              "    </tr>\n",
              "  </tbody>\n",
              "</table>\n",
              "</div><br><label><b>dtype:</b> int64</label>"
            ]
          },
          "metadata": {},
          "execution_count": 17
        }
      ]
    },
    {
      "cell_type": "code",
      "source": [
        "df=df.dropna()\n",
        "df.count"
      ],
      "metadata": {
        "colab": {
          "base_uri": "https://localhost:8080/",
          "height": 187
        },
        "id": "e6VkgPrypQ8T",
        "outputId": "ff37594d-f450-4dc7-cccb-237cd3070c96"
      },
      "execution_count": 18,
      "outputs": [
        {
          "output_type": "execute_result",
          "data": {
            "text/plain": [
              "<bound method DataFrame.count of   Instituto Nacional de Estadística y Geografía (INEGI)  \\\n",
              "3                                           Periodos      \n",
              "\n",
              "                                          Unnamed: 1  \\\n",
              "3  Demografía y Sociedad > Educación > Tasa neta ...   \n",
              "\n",
              "                                          Unnamed: 2    Unnamed: 3  \n",
              "3  Demografía y Sociedad > Educación > Tasa neta ...  6.000000e+09  >"
            ],
            "text/html": [
              "<div style=\"max-width:800px; border: 1px solid var(--colab-border-color);\"><style>\n",
              "      pre.function-repr-contents {\n",
              "        overflow-x: auto;\n",
              "        padding: 8px 12px;\n",
              "        max-height: 500px;\n",
              "      }\n",
              "\n",
              "      pre.function-repr-contents.function-repr-contents-collapsed {\n",
              "        cursor: pointer;\n",
              "        max-height: 100px;\n",
              "      }\n",
              "    </style>\n",
              "    <pre style=\"white-space: initial; background:\n",
              "         var(--colab-secondary-surface-color); padding: 8px 12px;\n",
              "         border-bottom: 1px solid var(--colab-border-color);\"><b>pandas.core.frame.DataFrame.count</b><br/>def count(axis: Axis=0, numeric_only: bool=False)</pre><pre class=\"function-repr-contents function-repr-contents-collapsed\" style=\"\"><a class=\"filepath\" style=\"display:none\" href=\"#\">/usr/local/lib/python3.10/dist-packages/pandas/core/frame.py</a>Count non-NA cells for each column or row.\n",
              "\n",
              "The values `None`, `NaN`, `NaT`, ``pandas.NA`` are considered NA.\n",
              "\n",
              "Parameters\n",
              "----------\n",
              "axis : {0 or &#x27;index&#x27;, 1 or &#x27;columns&#x27;}, default 0\n",
              "    If 0 or &#x27;index&#x27; counts are generated for each column.\n",
              "    If 1 or &#x27;columns&#x27; counts are generated for each row.\n",
              "numeric_only : bool, default False\n",
              "    Include only `float`, `int` or `boolean` data.\n",
              "\n",
              "Returns\n",
              "-------\n",
              "Series\n",
              "    For each column/row the number of non-NA/null entries.\n",
              "\n",
              "See Also\n",
              "--------\n",
              "Series.count: Number of non-NA elements in a Series.\n",
              "DataFrame.value_counts: Count unique combinations of columns.\n",
              "DataFrame.shape: Number of DataFrame rows and columns (including NA\n",
              "    elements).\n",
              "DataFrame.isna: Boolean same-sized DataFrame showing places of NA\n",
              "    elements.\n",
              "\n",
              "Examples\n",
              "--------\n",
              "Constructing DataFrame from a dictionary:\n",
              "\n",
              "&gt;&gt;&gt; df = pd.DataFrame({&quot;Person&quot;:\n",
              "...                    [&quot;John&quot;, &quot;Myla&quot;, &quot;Lewis&quot;, &quot;John&quot;, &quot;Myla&quot;],\n",
              "...                    &quot;Age&quot;: [24., np.nan, 21., 33, 26],\n",
              "...                    &quot;Single&quot;: [False, True, True, True, False]})\n",
              "&gt;&gt;&gt; df\n",
              "   Person   Age  Single\n",
              "0    John  24.0   False\n",
              "1    Myla   NaN    True\n",
              "2   Lewis  21.0    True\n",
              "3    John  33.0    True\n",
              "4    Myla  26.0   False\n",
              "\n",
              "Notice the uncounted NA values:\n",
              "\n",
              "&gt;&gt;&gt; df.count()\n",
              "Person    5\n",
              "Age       4\n",
              "Single    5\n",
              "dtype: int64\n",
              "\n",
              "Counts for each **row**:\n",
              "\n",
              "&gt;&gt;&gt; df.count(axis=&#x27;columns&#x27;)\n",
              "0    3\n",
              "1    2\n",
              "2    3\n",
              "3    3\n",
              "4    3\n",
              "dtype: int64</pre>\n",
              "      <script>\n",
              "      if (google.colab.kernel.accessAllowed && google.colab.files && google.colab.files.view) {\n",
              "        for (const element of document.querySelectorAll('.filepath')) {\n",
              "          element.style.display = 'block'\n",
              "          element.onclick = (event) => {\n",
              "            event.preventDefault();\n",
              "            event.stopPropagation();\n",
              "            google.colab.files.view(element.textContent, 11358);\n",
              "          };\n",
              "        }\n",
              "      }\n",
              "      for (const element of document.querySelectorAll('.function-repr-contents')) {\n",
              "        element.onclick = (event) => {\n",
              "          event.preventDefault();\n",
              "          event.stopPropagation();\n",
              "          element.classList.toggle('function-repr-contents-collapsed');\n",
              "        };\n",
              "      }\n",
              "      </script>\n",
              "      </div>"
            ]
          },
          "metadata": {},
          "execution_count": 18
        }
      ]
    },
    {
      "cell_type": "code",
      "source": [
        "df.isnull().sum()"
      ],
      "metadata": {
        "colab": {
          "base_uri": "https://localhost:8080/",
          "height": 210
        },
        "id": "wpJJYsLxphuF",
        "outputId": "c7c7f035-6a50-4102-bdd7-499590714357"
      },
      "execution_count": 19,
      "outputs": [
        {
          "output_type": "execute_result",
          "data": {
            "text/plain": [
              "Instituto Nacional de Estadística y Geografía (INEGI)    0\n",
              "Unnamed: 1                                               0\n",
              "Unnamed: 2                                               0\n",
              "Unnamed: 3                                               0\n",
              "dtype: int64"
            ],
            "text/html": [
              "<div>\n",
              "<style scoped>\n",
              "    .dataframe tbody tr th:only-of-type {\n",
              "        vertical-align: middle;\n",
              "    }\n",
              "\n",
              "    .dataframe tbody tr th {\n",
              "        vertical-align: top;\n",
              "    }\n",
              "\n",
              "    .dataframe thead th {\n",
              "        text-align: right;\n",
              "    }\n",
              "</style>\n",
              "<table border=\"1\" class=\"dataframe\">\n",
              "  <thead>\n",
              "    <tr style=\"text-align: right;\">\n",
              "      <th></th>\n",
              "      <th>0</th>\n",
              "    </tr>\n",
              "  </thead>\n",
              "  <tbody>\n",
              "    <tr>\n",
              "      <th>Instituto Nacional de Estadística y Geografía (INEGI)</th>\n",
              "      <td>0</td>\n",
              "    </tr>\n",
              "    <tr>\n",
              "      <th>Unnamed: 1</th>\n",
              "      <td>0</td>\n",
              "    </tr>\n",
              "    <tr>\n",
              "      <th>Unnamed: 2</th>\n",
              "      <td>0</td>\n",
              "    </tr>\n",
              "    <tr>\n",
              "      <th>Unnamed: 3</th>\n",
              "      <td>0</td>\n",
              "    </tr>\n",
              "  </tbody>\n",
              "</table>\n",
              "</div><br><label><b>dtype:</b> int64</label>"
            ]
          },
          "metadata": {},
          "execution_count": 19
        }
      ]
    }
  ]
}