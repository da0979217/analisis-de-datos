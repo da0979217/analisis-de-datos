{
  "nbformat": 4,
  "nbformat_minor": 0,
  "metadata": {
    "colab": {
      "provenance": [],
      "toc_visible": true,
      "authorship_tag": "ABX9TyNd7FUcitciD4nkn/7eZtPx",
      "include_colab_link": true
    },
    "kernelspec": {
      "name": "python3",
      "display_name": "Python 3"
    },
    "language_info": {
      "name": "python"
    }
  },
  "cells": [
    {
      "cell_type": "markdown",
      "metadata": {
        "id": "view-in-github",
        "colab_type": "text"
      },
      "source": [
        "<a href=\"https://colab.research.google.com/github/da0979217/analisis-de-datos/blob/main/Untitled67.ipynb\" target=\"_parent\"><img src=\"https://colab.research.google.com/assets/colab-badge.svg\" alt=\"Open In Colab\"/></a>"
      ]
    },
    {
      "cell_type": "code",
      "execution_count": 1,
      "metadata": {
        "colab": {
          "base_uri": "https://localhost:8080/"
        },
        "id": "JdBY0X7El176",
        "outputId": "61c14787-8518-4682-b7e6-fbcdb8c6d1f1"
      },
      "outputs": [
        {
          "output_type": "stream",
          "name": "stdout",
          "text": [
            "Introduce tu edad: 22\n",
            "Eres mayor de edad.\n"
          ]
        }
      ],
      "source": [
        "edad = int(input(\"Introduce tu edad: \"))\n",
        "\n",
        "# Verificar si es mayor de edad\n",
        "if edad >= 18:\n",
        "    print(\"Eres mayor de edad.\")\n",
        "else:\n",
        "    print(\"Eres menor de edad.\")"
      ]
    },
    {
      "cell_type": "code",
      "source": [
        "# Definir una lista de números\n",
        "numeros = [10, 15, 20, 25, 30, 35, 40]\n",
        "\n",
        "# Recorrer la lista e imprimir solo los números pares\n",
        "for numero in numeros:\n",
        "    if numero % 2 == 0:\n",
        "        print(f\"{numero} es un número par.\")"
      ],
      "metadata": {
        "colab": {
          "base_uri": "https://localhost:8080/"
        },
        "id": "57_LPFLWmcw9",
        "outputId": "cf63a318-9a40-4bd7-9ace-2f6f05cc40fc"
      },
      "execution_count": 2,
      "outputs": [
        {
          "output_type": "stream",
          "name": "stdout",
          "text": [
            "10 es un número par.\n",
            "20 es un número par.\n",
            "30 es un número par.\n",
            "40 es un número par.\n"
          ]
        }
      ]
    },
    {
      "cell_type": "code",
      "source": [
        "#Definir una lista de numeros y que imprima los 4 primeros numeros\n",
        "#inicializar la suma\n",
        "suma_total=0\n",
        "#recorrer la lista y sumar los 4 primeros numeros\n",
        "\n",
        "for numero in numeros:\n",
        "    suma_total += numero\n",
        "    print(f\"La suma de los números es: {suma_total}\")\n"
      ],
      "metadata": {
        "colab": {
          "base_uri": "https://localhost:8080/"
        },
        "id": "4Gt7uZWunzTw",
        "outputId": "f8756650-4891-4b4f-8e28-8096ae3b737b"
      },
      "execution_count": 5,
      "outputs": [
        {
          "output_type": "stream",
          "name": "stdout",
          "text": [
            "La suma de los números es: 10\n",
            "La suma de los números es: 25\n",
            "La suma de los números es: 45\n",
            "La suma de los números es: 70\n",
            "La suma de los números es: 100\n",
            "La suma de los números es: 135\n",
            "La suma de los números es: 175\n"
          ]
        }
      ]
    },
    {
      "cell_type": "code",
      "source": [
        "\n",
        "a = int(input(\"Introduce el primer número: \"))\n",
        "b = int(input(\"Introduce el segundo número: \"))\n",
        "c = int(input(\"Introduce el tercer número: \"))\n",
        "\n",
        "if a >= b and a >= c:\n",
        "    print(f\"El mayor es: {a}\")\n",
        "elif b >= a and b >= c:\n",
        "    print(f\"El mayor es: {b}\")\n",
        "else:\n",
        "    print(f\"El mayor es: {c}\")"
      ],
      "metadata": {
        "colab": {
          "base_uri": "https://localhost:8080/"
        },
        "id": "ytnNALykqg5n",
        "outputId": "dc6e5c34-02df-4f9a-a422-6c057f489a8b"
      },
      "execution_count": 8,
      "outputs": [
        {
          "output_type": "stream",
          "name": "stdout",
          "text": [
            "Introduce el primer número: 4\n",
            "Introduce el segundo número: 5\n",
            "Introduce el tercer número: 7\n",
            "El mayor es: 7\n"
          ]
        }
      ]
    }
  ]
}