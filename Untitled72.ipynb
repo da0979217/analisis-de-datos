{
  "nbformat": 4,
  "nbformat_minor": 0,
  "metadata": {
    "colab": {
      "provenance": [],
      "authorship_tag": "ABX9TyN8R4m/N0t/f3ja6YwX6z5j",
      "include_colab_link": true
    },
    "kernelspec": {
      "name": "python3",
      "display_name": "Python 3"
    },
    "language_info": {
      "name": "python"
    }
  },
  "cells": [
    {
      "cell_type": "markdown",
      "metadata": {
        "id": "view-in-github",
        "colab_type": "text"
      },
      "source": [
        "<a href=\"https://colab.research.google.com/github/da0979217/analisis-de-datos/blob/main/Untitled72.ipynb\" target=\"_parent\"><img src=\"https://colab.research.google.com/assets/colab-badge.svg\" alt=\"Open In Colab\"/></a>"
      ]
    },
    {
      "cell_type": "code",
      "execution_count": 20,
      "metadata": {
        "colab": {
          "base_uri": "https://localhost:8080/"
        },
        "id": "4mJnjWedD4LD",
        "outputId": "be73a181-002e-42ba-a5aa-705708cdbbce"
      },
      "outputs": [
        {
          "output_type": "stream",
          "name": "stdout",
          "text": [
            "  Instituto Nacional de Estadística y Geografía (INEGI)  \\\n",
            "0                                                NaN      \n",
            "1             Fecha de consulta: 04/11/2024 14:55:59      \n",
            "2                                                         \n",
            "3                                           Periodos      \n",
            "4                                               1910      \n",
            "\n",
            "                                          Unnamed: 1  \n",
            "0                                                NaN  \n",
            "1                                                NaN  \n",
            "2                                                NaN  \n",
            "3  Demografía y Sociedad > Población > Población ...  \n",
            "4                                           15160369  \n"
          ]
        }
      ],
      "source": [
        "import pandas as pd\n",
        "import numpy as np\n",
        "import matplotlib.pyplot as plt\n",
        "import seaborn as  sns\n",
        "\n",
        "# Paso 1: Cargar el archivo de datos\n",
        "\n",
        "df = pd.read_csv('/content/indicadores1.csv', encoding='latin1')\n",
        "\n",
        "# Paso 2: Inspeccionar los primeros registros para entender el contenido\n",
        "print(df.head())\n"
      ]
    },
    {
      "cell_type": "code",
      "source": [
        "# Paso 4: Inspeccionar la estructura del DataFrame\n",
        "\n",
        "print(\"\\nEstructura del DataFrame:\")\n",
        "\n",
        "print(df.info())\n",
        "\n",
        "# Paso 5: Verificar la existencia de valores nulos\n",
        "\n",
        "print(\"\\nValores nulos en cada columna:\")\n",
        "print(df.isnull().sum())\n",
        "\n",
        "# Paso 6: Eliminar filas duplicadas\n",
        "\n",
        "df = df.drop_duplicates()\n",
        "\n",
        "\n",
        "# Paso 7: Manejar valores faltantes\n",
        "\n",
        "# Opción 1: Eliminar filas con valores faltantes\n",
        "\n",
        "df = df.dropna()\n",
        "\n",
        "\n",
        "# Opción 2: Rellenar valores faltantes con un valor específico\n",
        "\n",
        "# df = df.fillna()\n",
        "\n",
        "# Paso 11: Inspeccionar los cambios\n",
        "\n",
        "\n",
        "print(\"\\nEstructura del DataFrame después de la limpieza:\")\n",
        "\n",
        "print(df.info())\n",
        "print(\"\\nPrimeros 5 registros después de la limpieza:\")\n",
        "print(df.head())\n",
        "\n",
        "\n",
        "# Paso 12: Exploración de Datos\n",
        "\n",
        "\n",
        "# Resumen estadístico\n",
        "\n",
        "print(\"\\nResumen estadístico del DataFrame:\")\n",
        "print(df.describe())\n",
        "\n"
      ],
      "metadata": {
        "colab": {
          "base_uri": "https://localhost:8080/"
        },
        "id": "19iDVNXXLdot",
        "outputId": "248c1b4b-566a-4f40-9865-46f6daaff20f"
      },
      "execution_count": 16,
      "outputs": [
        {
          "output_type": "stream",
          "name": "stdout",
          "text": [
            "\n",
            "Estructura del DataFrame:\n",
            "<class 'pandas.core.frame.DataFrame'>\n",
            "Index: 16 entries, 3 to 18\n",
            "Data columns (total 2 columns):\n",
            " #   Column                                                 Non-Null Count  Dtype \n",
            "---  ------                                                 --------------  ----- \n",
            " 0   Instituto Nacional de Estadística y Geografía (INEGI)  16 non-null     object\n",
            " 1   Unnamed: 1                                             16 non-null     object\n",
            "dtypes: object(2)\n",
            "memory usage: 384.0+ bytes\n",
            "None\n",
            "\n",
            "Valores nulos en cada columna:\n",
            "Instituto Nacional de Estadística y Geografía (INEGI)    0\n",
            "Unnamed: 1                                               0\n",
            "dtype: int64\n",
            "\n",
            "Estructura del DataFrame después de la limpieza:\n",
            "<class 'pandas.core.frame.DataFrame'>\n",
            "Index: 16 entries, 3 to 18\n",
            "Data columns (total 2 columns):\n",
            " #   Column                                                 Non-Null Count  Dtype \n",
            "---  ------                                                 --------------  ----- \n",
            " 0   Instituto Nacional de Estadística y Geografía (INEGI)  16 non-null     object\n",
            " 1   Unnamed: 1                                             16 non-null     object\n",
            "dtypes: object(2)\n",
            "memory usage: 384.0+ bytes\n",
            "None\n",
            "\n",
            "Primeros 5 registros después de la limpieza:\n",
            "  Instituto Nacional de Estadística y Geografía (INEGI)  \\\n",
            "3                                           Periodos      \n",
            "4                                               1910      \n",
            "5                                               1921      \n",
            "6                                               1930      \n",
            "7                                               1940      \n",
            "\n",
            "                                          Unnamed: 1  \n",
            "3  Demografía y Sociedad > Población > Población ...  \n",
            "4                                           15160369  \n",
            "5                                           14334780  \n",
            "6                                           16552722  \n",
            "7                                           19653552  \n",
            "\n",
            "Resumen estadístico del DataFrame:\n",
            "       Instituto Nacional de Estadística y Geografía (INEGI)  \\\n",
            "count                                                  16      \n",
            "unique                                                 16      \n",
            "top                                              Periodos      \n",
            "freq                                                    1      \n",
            "\n",
            "                                               Unnamed: 1  \n",
            "count                                                  16  \n",
            "unique                                                 16  \n",
            "top     Demografía y Sociedad > Población > Población ...  \n",
            "freq                                                    1  \n"
          ]
        }
      ]
    },
    {
      "cell_type": "code",
      "source": [
        "# Matriz de correlación  - Excluir columnas no numéricas\n",
        "df_numerico = df.select_dtypes(include='number')\n",
        "plt.figure(figsize=(12, 8))\n",
        "\n",
        "plt.title('Matriz de correlación')\n",
        "plt.show()\n",
        "\n",
        "\n",
        "\n",
        "# Paso 12: Guardar el DataFrame limpio en un nuevo archivo CSV\n",
        "\n",
        "df.to_csv('archivo_limpio.csv', index=False)\n",
        "\n",
        "\n",
        "\n",
        "# Paso adicional para eliminar filas no necesarias y formatear las columnas adecuadas\n",
        "\n",
        "df_cleaned = df.iloc[3:].reset_index(drop=True)\n",
        "\n",
        "df_cleaned.columns = ['periodos', 'poblacion']\n",
        "\n",
        "\n",
        "# Convertir la columna 'poblacion' a tipo numérico\n",
        "\n",
        "df_cleaned['poblacion'] = pd.to_numeric(df_cleaned['poblacion'], errors='coerce')\n",
        "\n",
        "# Verificar los cambios\n",
        "\n",
        "print(\"\\nDataFrame después de la limpieza:\")\n",
        "\n",
        "print(df_cleaned.head())\n",
        "\n",
        "\n"
      ],
      "metadata": {
        "colab": {
          "base_uri": "https://localhost:8080/",
          "height": 838
        },
        "id": "blPbtxsZL7b3",
        "outputId": "e41886e7-5512-498b-8ab3-1712d9833e7b"
      },
      "execution_count": 26,
      "outputs": [
        {
          "output_type": "display_data",
          "data": {
            "text/plain": [
              "<Figure size 1200x800 with 1 Axes>"
            ],
            "image/png": "[encoded data removed]"
          },
          "metadata": {}
        },
        {
          "output_type": "stream",
          "name": "stdout",
          "text": [
            "\n",
            "DataFrame después de la limpieza:\n",
            "   periodos   poblacion\n",
            "0  Periodos         NaN\n",
            "1      1910  15160369.0\n",
            "2      1921  14334780.0\n",
            "3      1930  16552722.0\n",
            "4      1940  19653552.0\n"
          ]
        }
      ]
    }
  ]
}