{
  "nbformat": 4,
  "nbformat_minor": 0,
  "metadata": {
    "colab": {
      "provenance": [],
      "authorship_tag": "ABX9TyPOp2hOpz2u3fXcEAYmO9Gs",
      "include_colab_link": true
    },
    "kernelspec": {
      "name": "python3",
      "display_name": "Python 3"
    },
    "language_info": {
      "name": "python"
    }
  },
  "cells": [
    {
      "cell_type": "markdown",
      "metadata": {
        "id": "view-in-github",
        "colab_type": "text"
      },
      "source": [
        "<a href=\"https://colab.research.google.com/github/da0979217/analisis-de-datos/blob/main/Untitled119.ipynb\" target=\"_parent\"><img src=\"https://colab.research.google.com/assets/colab-badge.svg\" alt=\"Open In Colab\"/></a>"
      ]
    },
    {
      "cell_type": "code",
      "execution_count": 1,
      "metadata": {
        "colab": {
          "base_uri": "https://localhost:8080/"
        },
        "id": "lA52Cqe1ZAP_",
        "outputId": "2e98c57c-5cd7-4f87-f04e-df65f35a21fb"
      },
      "outputs": [
        {
          "output_type": "stream",
          "name": "stdout",
          "text": [
            "La suma de los números del 1 al 10 es: 1\n",
            "La suma de los números del 1 al 10 es: 3\n",
            "La suma de los números del 1 al 10 es: 6\n",
            "La suma de los números del 1 al 10 es: 10\n",
            "La suma de los números del 1 al 10 es: 15\n",
            "La suma de los números del 1 al 10 es: 21\n",
            "La suma de los números del 1 al 10 es: 28\n",
            "La suma de los números del 1 al 10 es: 36\n",
            "La suma de los números del 1 al 10 es: 45\n",
            "La suma de los números del 1 al 10 es: 55\n"
          ]
        }
      ],
      "source": [
        "# Script para calcular la suma de los números del 1 al 10\n",
        "\n",
        "# Inicializar la variable suma\n",
        "\n",
        "suma = 0\n",
        "\n",
        "# Usar un bucle for para sumar los números del 1 al 10\n",
        "for numero in range(1, 11):\n",
        "\n",
        "  suma += numero  # Sumar el número actual a la suma\n",
        "  # Imprimir el resultado\n",
        "  print(\"La suma de los números del 1 al 10 es:\", suma)"
      ]
    }
  ]
}